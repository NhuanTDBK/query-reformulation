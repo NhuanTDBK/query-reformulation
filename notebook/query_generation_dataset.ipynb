{
 "cells": [
  {
   "cell_type": "markdown",
   "id": "e6b6fda6",
   "metadata": {},
   "source": [
    "# Query Generation Using LLAMA 3.2"
   ]
  },
  {
   "cell_type": "markdown",
   "id": "ee5e042e",
   "metadata": {},
   "source": [
    "- [ 1 - Set up Kernel and Required Dependencies](#1)\n",
    "- [ 2 - Load LLAMA 3.2 3B and Inference](#2)\n",
    "  - [ 2.1 - Load Model](#2.1)\n",
    "  - [ 2.2 - Load Data](#2.2)  \n",
    "  - [ 2.3 - Run Inference](#2.3)\n",
    "- [ 3 - Analyze the output](#3)\n",
    "  - [ 3.1 - Check Response Semantic Similarity](#3.1)\n",
    "  - [ 3.2 - Check Response quality](#3.2)  "
   ]
  },
  {
   "cell_type": "markdown",
   "id": "65b507b1",
   "metadata": {},
   "source": [
    "In this notebook, you will use LLAMA 3.2 3B Instruct to generate query reformulation using ExLLamaV2 GPU"
   ]
  },
  {
   "cell_type": "markdown",
   "id": "1c4c7d08",
   "metadata": {},
   "source": [
    "# Table of Contents"
   ]
  },
  {
   "cell_type": "markdown",
   "id": "01a27039",
   "metadata": {},
   "source": [
    "<a name='1'></a>\n",
    "## 1 - Set up Kernel and Required Dependencies"
   ]
  },
  {
   "cell_type": "code",
   "execution_count": null,
   "id": "258e7acd",
   "metadata": {},
   "outputs": [],
   "source": [
    "!pip install --upgrade pip uv\n",
    "!uv pip install \\\n",
    "    transformers==4.27.2 \\\n",
    "    datasets==2.11.0 \\\n",
    "    evaluate==0.4.0 \\\n",
    "    rouge_score==0.1.2 \\\n",
    "    peft==0.3.0 --quiet \\\n",
    "    exllamav2 \\ \n",
    "    sentence-transformers"
   ]
  },
  {
   "cell_type": "markdown",
   "id": "43bcae1e",
   "metadata": {},
   "source": [
    "<a name='2'></a>\n",
    "## 2 - Load LLAMA 3.2 3B and Inference"
   ]
  },
  {
   "cell_type": "markdown",
   "id": "78dfeecb",
   "metadata": {},
   "source": [
    "<a name='2.1'></a>\n",
    "### 2.1 - Load Model"
   ]
  },
  {
   "cell_type": "code",
   "execution_count": null,
   "id": "c10598af",
   "metadata": {},
   "outputs": [],
   "source": [
    "import json \n",
    "\n",
    "import pandas as pd\n",
    "import torch\n",
    "\n",
    "\n",
    "from exllamav2 import ExLlamaV2, ExLlamaV2Config, ExLlamaV2Cache, ExLlamaV2Tokenizer, ExLlamaV2Cache_Q6, ExLlamaV2Cache_Q4, ExLlamaV2Cache_Q8\n",
    "from exllamav2.generator import ExLlamaV2DynamicGenerator, ExLlamaV2DynamicJob, ExLlamaV2Sampler\n",
    "\n",
    "from exllamav2 import ExLlamaV2, ExLlamaV2Config, ExLlamaV2Cache, ExLlamaV2Tokenizer, Timer\n",
    "from exllamav2.generator import ExLlamaV2DynamicGenerator\n",
    "from exllamav2 import ExLlamaV2, ExLlamaV2Config, ExLlamaV2Cache_TP, ExLlamaV2Tokenizer, Timer\n",
    "\n",
    "model_dir = \"/home/ubuntu/.cache/huggingface/hub/models--turboderp--Llama-3.2-3B-Instruct-exl2/snapshots/48320f1ccf9eddd5cca80db7b107e80672c5c32a\"\n",
    "config = ExLlamaV2Config(model_dir)\n",
    "config.arch_compat_overrides()\n",
    "config.no_graphs = True\n",
    "model = ExLlamaV2(config)\n",
    "\n",
    "# accounted for when splitting the model.\n",
    "\n",
    "qbit = int(json.load(open(config.model_config))[\"quantization_config\"][\"bits\"])\n",
    "\n",
    "if qbit==4:\n",
    "    cache_type = ExLlamaV2Cache_Q4\n",
    "elif qbit==6:\n",
    "    cache_type = ExLlamaV2Cache_Q6\n",
    "elif qbit==8:\n",
    "    cache_type = ExLlamaV2Cache_Q8\n",
    "else:\n",
    "    cache_type = ExLlamaV2Cache\n",
    "    \n",
    "cache = cache_type(\n",
    "    model,\n",
    "    max_seq_len=4096,\n",
    ")\n",
    "\n",
    "if torch.cuda.device_count() == 1:\n",
    "    print(\"Use cache: \", cache)\n",
    "    model.load_autosplit(cache, progress = True)\n",
    "else:\n",
    "    print(\"Use cache:i \", cache)\n",
    "    model.load_tp(expect_cache_tokens=16384, progress=True)    \n",
    "    cache = ExLlamaV2Cache_TP(model, max_seq_len = 16384)\n",
    "\n",
    "# After loading the model, all other functions should work the same\n",
    "\n",
    "print(\"Loading tokenizer...\")\n",
    "tokenizer = ExLlamaV2Tokenizer(config)"
   ]
  },
  {
   "cell_type": "code",
   "execution_count": null,
   "id": "a724d7a7-048f-4c4a-a941-af12754aa011",
   "metadata": {},
   "outputs": [],
   "source": [
    "# Initialize the generator with all default parameters\n",
    "generator = ExLlamaV2DynamicGenerator(\n",
    "    model = model,\n",
    "    cache = cache,\n",
    "    tokenizer = tokenizer,\n",
    "    paged=False\n",
    ")"
   ]
  },
  {
   "cell_type": "code",
   "execution_count": null,
   "id": "05da3e4b-ccb6-4489-a92e-1395f25877d2",
   "metadata": {},
   "outputs": [],
   "source": [
    "# Initialize the generator with all default parameters\n",
    "def format_prompt(prompt_format: str, sp: str, p: str):\n",
    "    \"\"\"\n",
    "    Format prompt template by model type\n",
    "    Args:\n",
    "        prompt_format: str, model type\n",
    "        sp: str, system prompt\n",
    "        p: str, user prompt\n",
    "    \"\"\"\n",
    "    if prompt_format == \"llama\":\n",
    "        return f\"<s>[INST] <<SYS>>\\n{sp}\\n<</SYS>>\\n\\n{p} [/INST]\"\n",
    "    elif prompt_format == \"llama3\":\n",
    "        return (\n",
    "            f\"<|begin_of_text|>\"\n",
    "            f\"<|start_header_id|>system<|end_header_id|>\\n\\n\"\n",
    "            f\"{sp}<|eot_id|>\"\n",
    "            f\"<|start_header_id|>user<|end_header_id|>\\n\\n\"\n",
    "            f\"{p}<|eot_id|>\"\n",
    "            f\"<|start_header_id|>assistant<|end_header_id|>\\n\\n\"\n",
    "        )\n",
    "    elif prompt_format == \"granite\":\n",
    "        return f\"System:\\n\" f\"{sp}\\n\\n\" f\"Question:\\n\" f\"{p}\\n\\n\" f\"Answer:\\n\"\n",
    "    elif prompt_format == \"chatml\":\n",
    "        return (\n",
    "            f\"<|im_start|>system\\n\"\n",
    "            f\"{sp}<|im_end|>\\n\"\n",
    "            f\"<|im_start|>user\\n\"\n",
    "            f\"{p}<|im_end|>\\n\"\n",
    "            f\"<|im_start|>assistant\\n\"\n",
    "        )\n",
    "    elif prompt_format == \"gemma\":\n",
    "        return (\n",
    "            f\"<bos><start_of_turn>user\\n\"\n",
    "            f\"{sp}\\n\\n\"\n",
    "            f\"{p}<end_of_turn>\\n\"\n",
    "            f\"<start_of_turn>model\\n\"\n",
    "        )\n",
    "\n",
    "\n",
    "def get_stop_conditions(prompt_format, tokenizer):\n",
    "    if prompt_format == \"llama\":\n",
    "        return [tokenizer.eos_token_id]\n",
    "    elif prompt_format == \"llama3\":\n",
    "        return [tokenizer.single_id(\"<|eot_id|>\")]\n",
    "    elif prompt_format == \"granite\":\n",
    "        return [tokenizer.eos_token_id, \"\\n\\nQuestion:\"]\n",
    "    elif prompt_format == \"gemma\":\n",
    "        return [tokenizer.eos_token_id, \"<end_of_turn>\"]"
   ]
  },
  {
   "cell_type": "code",
   "execution_count": null,
   "id": "f10eb063-8fe4-4c46-a338-081f4d250c1f",
   "metadata": {},
   "outputs": [],
   "source": [
    "prompt_template = \"\"\"\n",
    "### Instruction: Generate adequate search engine queries to obtain requested information based on input query. Return in YAML list only, at most 2 items,always start and close with triple backslash ```yml\n",
    "\n",
    "### Example:\n",
    "Query: In what year was the winner of the 44th edition of the Miss World competition born?\n",
    "Response: \n",
    "```yaml\n",
    "- 44th Miss World competition winner birth year\n",
    "```\n",
    "\n",
    "Query: Who lived longer, Nikola Tesla or Milutin Milankovic?\n",
    "Response: \n",
    "```yaml\n",
    "- Nikola Tesla lifespan\n",
    "- Milutin Milankovic lifespan\n",
    "```\n",
    "\n",
    "Query: Author David Chanoff has collaborated with a U.S. Navy admiral who served as the ambassador to the United Kingdom under which President?\n",
    "Response:\n",
    "```yaml\n",
    "- David Chanoff U.S. Navy admiral collaboration\n",
    "- U.S. Navy admiral ambassador to United Kingdom\n",
    "- U.S. President during U.S. Navy admiral's ambassadorship\n",
    "```\n",
    "\n",
    "Query: Create a table for top noise cancelling headphones that are not expensive\n",
    "Response:\n",
    "```yaml\n",
    "- top noise cancelling headphones under $100\n",
    "- top noise cancelling headphones $100 - $200\n",
    "- best budget noise cancelling headphones\n",
    "- noise cancelling headphones reviews\n",
    "```\n",
    "### Input\n",
    "Query: {query}\n",
    "### Response\n",
    "\"\"\""
   ]
  },
  {
   "cell_type": "markdown",
   "id": "c61ba28f",
   "metadata": {},
   "source": [
    "<a name='2.2'></a>\n",
    "### 2.2 - Load Data"
   ]
  },
  {
   "cell_type": "code",
   "execution_count": null,
   "id": "a2162a6f-8810-444a-afe6-befe16873dbb",
   "metadata": {},
   "outputs": [],
   "source": [
    "import polars as pl\n",
    "\n",
    "splits = {'validation': 'v1.1/validation-00000-of-00001.parquet', 'train': 'v1.1/*', 'test': 'v1.1/test-00000-of-00001.parquet'}\n",
    "df = pl.read_parquet('hf://datasets/microsoft/ms_marco/' + splits['train'])"
   ]
  },
  {
   "cell_type": "code",
   "execution_count": null,
   "id": "acf490a4-a150-476f-aff6-ebba8d0043f2",
   "metadata": {},
   "outputs": [],
   "source": [
    "df.head()"
   ]
  },
  {
   "cell_type": "code",
   "execution_count": null,
   "id": "69cf763f-a8a7-4f2f-ab0b-d21dc3ab7d19",
   "metadata": {},
   "outputs": [],
   "source": [
    "df[\"query\"].n_unique()"
   ]
  },
  {
   "cell_type": "code",
   "execution_count": null,
   "id": "f06c0f51-494e-46a6-8378-9bb86e6942c4",
   "metadata": {},
   "outputs": [],
   "source": [
    "# queries = df[\"query\"].sample(1000)\n",
    "queries = df[\"query\"]"
   ]
  },
  {
   "cell_type": "code",
   "execution_count": null,
   "id": "e4c2728d-a7e5-4451-a062-46a8dd9d690e",
   "metadata": {},
   "outputs": [],
   "source": [
    "prompt_format = \"llama3\"\n",
    "prompts = [format_prompt(prompt_format,p=prompt_template.format(query=queries[i]),sp=\"\") for i in range(len(queries))]"
   ]
  },
  {
   "cell_type": "markdown",
   "id": "696df128",
   "metadata": {},
   "source": [
    "<a name='2.3'></a>\n",
    "### 2.3 - Run Inference"
   ]
  },
  {
   "cell_type": "code",
   "execution_count": null,
   "id": "e8fc62fa-e575-4756-af68-5601287377ab",
   "metadata": {
    "scrolled": true
   },
   "outputs": [],
   "source": [
    "import time\n",
    "from tqdm import tqdm\n",
    "\n",
    "gen_settings = ExLlamaV2Sampler.Settings(\n",
    "    token_repetition_penalty = 1.1,\n",
    "    temperature = 0.3,\n",
    "    top_k = 40,\n",
    "    top_p = 0.95,\n",
    ")\n",
    "max_response_len = 32\n",
    "\n",
    "completions = []\n",
    "\n",
    "for idx, f_prompt in enumerate(prompts):\n",
    "    completions.append(f_prompt)\n",
    "    prompt_ids = tokenizer.encode(f_prompt, encode_special_tokens = True)\n",
    "    job = ExLlamaV2DynamicJob(\n",
    "        input_ids = prompt_ids,\n",
    "        gen_settings = gen_settings,\n",
    "        max_new_tokens = max_response_len,\n",
    "        identifier = idx,\n",
    "        stop_conditions = get_stop_conditions(prompt_format, tokenizer), \n",
    "    )\n",
    "    generator.enqueue(job)\n",
    "    if (idx + 1) % 1000 == 0 or (idx + 1) == len(prompts):\n",
    "        print(f\"{idx + 1} / {len(prompts)}\")\n",
    "\n",
    "# Generate\n",
    "\n",
    "print()\n",
    "print(\"Generating...\")\n",
    "\n",
    "num_completions = 0\n",
    "num_tokens = 0\n",
    "time_begin = time.time()\n",
    "\n",
    "with Timer() as t_batched, tqdm(total=len(prompts)) as pbar:\n",
    "    while generator.num_remaining_jobs():\n",
    "        results = generator.iterate()\n",
    "    \n",
    "        # We'll always get at least one result for each active job, even if the result contains no output text\n",
    "        bsz = len(set([r[\"identifier\"] for r in results]))\n",
    "        num_tokens += bsz\n",
    "    \n",
    "        for result in results:\n",
    "            if not result[\"eos\"]: continue\n",
    "    \n",
    "            # EOS signal is always accompanied by the full completion, so we don't need to collect text chunks\n",
    "            idx = result[\"identifier\"]\n",
    "            response = result[\"full_completion\"]\n",
    "            completions[idx] = {\"response\": response}\n",
    "    \n",
    "            # Measure performance\n",
    "            num_completions += 1\n",
    "            elapsed_time = time.time() - time_begin\n",
    "            rpm = num_completions / (elapsed_time / 60)\n",
    "            tps = num_tokens / elapsed_time\n",
    "            pbar.update(1)"
   ]
  },
  {
   "cell_type": "code",
   "execution_count": null,
   "id": "6f9e1c38-5f16-4bc1-8455-27057afda5da",
   "metadata": {},
   "outputs": [],
   "source": [
    "import yaml\n",
    "def parse_queries(text):\n",
    "    lindex, rindex = text.find(\"```yaml\"),  text.rfind(\"```\")\n",
    "    if rindex <= 0:\n",
    "        rindex = -1\n",
    "    try:\n",
    "        return yaml.safe_load(text[lindex+7:rindex])\n",
    "    except Exception as e:\n",
    "        return []"
   ]
  },
  {
   "cell_type": "code",
   "execution_count": null,
   "id": "43fd3781-851d-46ad-9cea-a9704598ce0c",
   "metadata": {},
   "outputs": [],
   "source": [
    "data_labels = []\n",
    "for i in range(len(completions)):\n",
    "    alternative_queries = parse_queries(completions[i][\"response\"])\n",
    "    if not alternative_queries:\n",
    "        print(i)\n",
    "        continue\n",
    "    for q in alternative_queries:\n",
    "        data_labels.append({\"query\": queries[i], \"alternative\": q})"
   ]
  },
  {
   "cell_type": "markdown",
   "id": "29138d37",
   "metadata": {},
   "source": [
    "<a name='3'></a>\n",
    "### 3 - Analyze the output"
   ]
  },
  {
   "cell_type": "markdown",
   "id": "12a979e1",
   "metadata": {},
   "source": [
    "<a name='3.1 '></a>\n",
    "### 3.1 - Check Response Semantic Similarity"
   ]
  },
  {
   "cell_type": "markdown",
   "id": "1390440c",
   "metadata": {},
   "source": [
    "Ideally, we want to get the output of query reformulation is closely meaning with origin query but it is more clarify and concise. So we check semantic "
   ]
  },
  {
   "cell_type": "code",
   "execution_count": 2,
   "id": "d8c58922",
   "metadata": {},
   "outputs": [
    {
     "name": "stderr",
     "output_type": "stream",
     "text": [
      "/opt/homebrew/Caskroom/miniconda/base/envs/semantic_search/lib/python3.10/site-packages/sentence_transformers/cross_encoder/CrossEncoder.py:11: TqdmWarning: IProgress not found. Please update jupyter and ipywidgets. See https://ipywidgets.readthedocs.io/en/stable/user_install.html\n",
      "  from tqdm.autonotebook import tqdm, trange\n",
      "/opt/homebrew/Caskroom/miniconda/base/envs/semantic_search/lib/python3.10/site-packages/torchvision/io/image.py:13: UserWarning: Failed to load image Python extension: dlopen(/opt/homebrew/Caskroom/miniconda/base/envs/semantic_search/lib/python3.10/site-packages/torchvision/image.so, 0x0006): Symbol not found: __ZN3c1017RegisterOperatorsD1Ev\n",
      "  Referenced from: <0B637046-A38B-3A5C-80C6-E847C27DCCD5> /opt/homebrew/Caskroom/miniconda/base/envs/semantic_search/lib/python3.10/site-packages/torchvision/image.so\n",
      "  Expected in:     <03BFC270-EF54-36FC-B102-371F5164D3C9> /opt/homebrew/Caskroom/miniconda/base/envs/semantic_search/lib/python3.10/site-packages/torch/lib/libtorch_cpu.dylib\n",
      "  warn(f\"Failed to load image Python extension: {e}\")\n"
     ]
    }
   ],
   "source": [
    "from sentence_transformers import SentenceTransformer, util"
   ]
  },
  {
   "cell_type": "code",
   "execution_count": null,
   "id": "dc8c3e5e-5762-46ba-99bf-780bb68eea62",
   "metadata": {},
   "outputs": [],
   "source": [
    "df = pd.DataFrame(data_labels)\n",
    "df[\"alternative\"] = df[\"alternative\"].astype(str)"
   ]
  },
  {
   "cell_type": "code",
   "execution_count": null,
   "id": "9e84ad88-0df4-4f53-b106-4bb1e89d84b0",
   "metadata": {},
   "outputs": [],
   "source": [
    "df.head()"
   ]
  },
  {
   "cell_type": "code",
   "execution_count": null,
   "id": "603028fc-0b2b-497a-9d84-b56a5e238a62",
   "metadata": {},
   "outputs": [],
   "source": [
    "model_id = \"nomic-ai/nomic-embed-text-v1.5\"\n",
    "sbert = SentenceTransformer(model_id, device=\"cuda\", trust_remote_code=True)"
   ]
  },
  {
   "cell_type": "code",
   "execution_count": null,
   "id": "3830d5f5-c499-432d-9294-efe13c90f4bd",
   "metadata": {},
   "outputs": [],
   "source": [
    "from tqdm import trange\n",
    "import numpy as np\n",
    "all_scores = np.zeros(len(df))\n",
    "batch_size = 512\n",
    "for i in trange(0, len(df), batch_size):\n",
    "    queries_embedding = sbert.encode(df[\"query\"].iloc[i: i+batch_size].tolist(), batch_size=512, show_progress_bar=False, normalize_embeddings=True, convert_to_numpy=True)\n",
    "    alternative_embedding = sbert.encode(df[\"alternative\"].iloc[i: i+batch_size].tolist(), batch_size=512, show_progress_bar=False, normalize_embeddings=True, convert_to_numpy=True)\n",
    "    scores = util.pairwise_dot_score(queries_embedding, alternative_embedding).detach().numpy()\n",
    "    all_scores[i: i + batch_size] = scores\n",
    "\n",
    "df[\"semantic_score\"] = all_scores    "
   ]
  },
  {
   "cell_type": "code",
   "execution_count": 7,
   "id": "2dadb3aa",
   "metadata": {},
   "outputs": [],
   "source": [
    "import pandas as pd\n",
    "df = pd.read_parquet(\"~/Downloads/sample_query_rewrite_full.parquet\")"
   ]
  },
  {
   "cell_type": "code",
   "execution_count": 8,
   "id": "a2e59ca8-c443-449d-9cb0-83916dc750dd",
   "metadata": {},
   "outputs": [
    {
     "data": {
      "text/plain": [
       "count    206022.000000\n",
       "mean          0.829778\n",
       "std           0.157775\n",
       "min          -0.112433\n",
       "25%           0.775642\n",
       "50%           0.867698\n",
       "75%           0.935892\n",
       "max           1.000000\n",
       "Name: semantic_score, dtype: float64"
      ]
     },
     "execution_count": 8,
     "metadata": {},
     "output_type": "execute_result"
    }
   ],
   "source": [
    "df[\"semantic_score\"].describe()"
   ]
  },
  {
   "cell_type": "code",
   "execution_count": 9,
   "id": "7c5aab5e-ba88-4302-b669-c6d4222ac051",
   "metadata": {},
   "outputs": [
    {
     "data": {
      "text/plain": [
       "<Axes: >"
      ]
     },
     "execution_count": 9,
     "metadata": {},
     "output_type": "execute_result"
    },
    {
     "data": {
      "image/png": "[encoded data removed]",
      "text/plain": [
       "<Figure size 640x480 with 1 Axes>"
      ]
     },
     "metadata": {},
     "output_type": "display_data"
    }
   ],
   "source": [
    "df[\"semantic_score\"].hist(bins=50)"
   ]
  },
  {
   "cell_type": "markdown",
   "id": "a2c0c990",
   "metadata": {},
   "source": [
    "<a name='3.2'></a>\n",
    "### 3.2 - Check Response Quality Text"
   ]
  },
  {
   "cell_type": "code",
   "execution_count": 10,
   "id": "15490532",
   "metadata": {},
   "outputs": [],
   "source": [
    "from sklearn.model_selection import train_test_split"
   ]
  },
  {
   "cell_type": "code",
   "execution_count": null,
   "id": "021030c9-f392-46df-846d-9de5806a3769",
   "metadata": {},
   "outputs": [],
   "source": [
    "df[\"num_query\"] = df[\"query\"].map(lambda d: len(d.split()))\n",
    "df[\"num_alternative\"] = df[\"alternative\"].map(lambda d: len(d.strip().split()))"
   ]
  },
  {
   "cell_type": "code",
   "execution_count": null,
   "id": "f1921305-ea25-4f7a-9938-9a4d16386570",
   "metadata": {},
   "outputs": [],
   "source": [
    "df_filter = df[(df[\"num_alternative\"]>=2)&(df[\"semantic_score\"]>=0.7)]"
   ]
  },
  {
   "cell_type": "code",
   "execution_count": null,
   "id": "df8b925f-6eaa-497d-a15a-4c3af4b29373",
   "metadata": {},
   "outputs": [],
   "source": [
    "short_tokens = 5\n",
    "df_sample = pd.concat([\n",
    "    df_filter[df_filter[\"num_query\"]<=short_tokens].sample(frac=0.5),\n",
    "    df_filter[df_filter[\"num_query\"]>short_tokens],\n",
    "]).sample(frac=1.0)"
   ]
  },
  {
   "cell_type": "code",
   "execution_count": null,
   "id": "16a4856c-c491-448f-9a28-2ce74a0b000b",
   "metadata": {},
   "outputs": [],
   "source": [
    "df_train, df_test = train_test_split(df_sample, test_size=0.1, shuffle=True, random_state=4111)"
   ]
  },
  {
   "cell_type": "code",
   "execution_count": null,
   "id": "c1473d8b-da65-41a2-9ee8-c57fb14d65c2",
   "metadata": {},
   "outputs": [],
   "source": [
    "df_train.to_parquet(\"train.parquet\", index=False)\n",
    "df_test.to_parquet(\"test.parquet\", index=False)"
   ]
  }
 ],
 "metadata": {
  "kernelspec": {
   "display_name": "semantic_search",
   "language": "python",
   "name": "python3"
  },
  "language_info": {
   "codemirror_mode": {
    "name": "ipython",
    "version": 3
   },
   "file_extension": ".py",
   "mimetype": "text/x-python",
   "name": "python",
   "nbconvert_exporter": "python",
   "pygments_lexer": "ipython3",
   "version": "3.10.0"
  }
 },
 "nbformat": 4,
 "nbformat_minor": 5
}
